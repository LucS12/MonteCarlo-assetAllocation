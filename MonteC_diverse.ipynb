{
 "cells": [
  {
   "cell_type": "markdown",
   "id": "91c058f0",
   "metadata": {},
   "source": [
    "<img src=\"https://th.bing.com/th/id/OIP.kNWBEV7xPLO0ztKqRdhCqAHaD4?pid=ImgDet&rs=1\" width=\"500px\" align=\"right\">"
   ]
  },
  {
   "cell_type": "markdown",
   "id": "25bf8af8",
   "metadata": {},
   "source": [
    "# Monte Carlo Simulations: Diversification\n",
    "---\n",
    "Luc C. Smith"
   ]
  },
  {
   "cell_type": "markdown",
   "id": "5692b53b",
   "metadata": {},
   "source": [
    "## Summary & Methods:\n",
    "----\n",
    "\n",
    "This report includes a discussion of the use of Monte Carlo simulations to exhibit the importance of diversification in equity investment portfolios. It also contains a Python implementation of this to exhibit the topic. Here, the members of the S&P 500 index are gathered and used to be randomly chosen in each simulation for portfolio constructions containing different numbers of stocks. The implementation starts with 2 stocks and goes all the way up to 20, choosing random ones each time and creating 10,000 random portfolios. During this, the various metrics of returns, volatility, and Sharpe Ratio are calculated and stored. At the end, the average of each metric is taken for each number of stocks from 2 to 20 and plotted for visualization of the results.  "
   ]
  },
  {
   "cell_type": "markdown",
   "id": "bb2331a6",
   "metadata": {},
   "source": [
    "## Monte Carlo Simulations: Introduction\n",
    "----\n",
    "\n",
    "Monte Carlo Simulations define a method to create random scenarios for analysis. This model is used to examine the risk and uncertainty of certain ideas, and it can be used in many areas outside of just finance. This technique is named after a popular gambling location in Monaco, for such ideas of chance and random outcomes are closely related to gambling games like dice and slot machines. It was first developed, however, by Stanislaw Ulam, a mathematician who played countless games and plotted their outcomes to identify the probability of winning. With this, this method of analytics has grown in popularity even among the financial sector, and it is now quite often used to determine the distributions of investment portfolios. The steps for this approach can be seen as follows:\n",
    "- *Step 1: determine assets to be used.*\n",
    "\n",
    "\n",
    "- *Step 2: Choose an increasing range of number of assets.*\n",
    "\n",
    "\n",
    "- *Step 3: For each number in the above range, create many random simulations of the process.*\n",
    "    - *For portfolio construction, this means creating random weights for the specified number of assets chosen above.*\n",
    "    - *Also, calculate returns, risk, and other metrics such as Sharpe Ratio.*\n",
    "    \n",
    "    \n",
    "- *Step 4: Find the average of the generated distributions for each metric at each number of assets of the chosen range.* \n",
    "\n",
    "\n",
    "- *Step 5: Examine the results (visualizations/analytics).*"
   ]
  },
  {
   "cell_type": "markdown",
   "id": "c188d278",
   "metadata": {},
   "source": [
    "## Diversification: Asset Allocation\n",
    "\n",
    "The topic of asset allocation deals with finding optimal ways of placing one's capital into financial assets/securities. Optimal can mean different things under different investor preferences, needs, and constraints. However, a major issue in asset allocation and portfolio optimization is controlling the risk of the portfolio, which relates to the risk of the securities available for investing. Here, equities only are used as an example, but this works for any type of financial security/asset class. With this, a major component of asset allocation that is of great use to any investor attempting to manage risks efficiently is diversification. There is a common saying in investing: \"Don't put all your eggs in one basket.\" This exhibits this idea well, for risk can be diversified away when allocating capital into more than one security only. Firms can have periods of unexpected events that may result in significant price changes on the downside, negatively affecting a portfolio. This means that if an investor has all of his or her capital into such a security, they may encounter themselves in a terrible situation that could have been avoided with diversification. Therefore, diversification lowers the risk of an investor losing all of their capital, for each firm does not necessarily receive negative effects from situations of other specific firms. Two main types of risk can be defined as a result of this discussion:\n",
    "- **Systematic Market Risk:** \n",
    "    - *Ex: Federal Reserve decisions and international wars.*\n",
    "    - *Can't be diversified away.*\n",
    "    \n",
    "    \n",
    "- **Idiosyncratic (Random) Risk:**\n",
    "    - *Company specific factor such as an unexpected event.*\n",
    "    - *Can be diversified away.*"
   ]
  },
  {
   "cell_type": "markdown",
   "id": "732046d0",
   "metadata": {},
   "source": [
    "## Tools of Implementation: Python\n",
    "\n",
    "As one of the most popular programming languages in finance, Python offers great utility for financial analytical problems such as this one. It contains many useful packages that are able to help automate analytical processes for useful insights. The following packages are used:\n",
    "- **Pandas**: data manipulation and tabular related analytics. \n",
    "- **Pandas-datareader**: stock price data gathering.\n",
    "- **NumPy**: mathematical and vectorized processes.\n",
    "- **Matplotlib** and **Seaborn**: visualization tools."
   ]
  },
  {
   "cell_type": "markdown",
   "id": "6540d5fa",
   "metadata": {},
   "source": [
    "# Implementation: Python Code\n",
    "-----\n",
    "\n",
    "- Before starting the Monte Carlo Simulation and portfolio constructions, the necessary packages previously discussed need to be imported:"
   ]
  },
  {
   "cell_type": "code",
   "execution_count": 2,
   "id": "636a3f75",
   "metadata": {},
   "outputs": [],
   "source": [
    "#Packages Needed:\n",
    "import pandas as pd\n",
    "import pandas_datareader as web\n",
    "import numpy as np\n",
    "import matplotlib.pyplot as plt\n",
    "import seaborn as sea\n",
    "\n",
    "%matplotlib inline"
   ]
  },
  {
   "cell_type": "markdown",
   "id": "28337b67",
   "metadata": {},
   "source": [
    "- Now, some of the S&P 500 members can be gathered using Pandas and its \"read_csv\" method from a csv file containing the symbols. Also, the names need to be adjusted into the symbol only format away from any other text:"
   ]
  },
  {
   "cell_type": "code",
   "execution_count": 7,
   "id": "49b81c8e",
   "metadata": {},
   "outputs": [
    {
     "data": {
      "text/plain": [
       "['A', 'AAL', 'AAP', 'AAPL', 'ABBV', 'ABC', 'ABMD', 'ABT', 'ACN', 'ADBE']"
      ]
     },
     "execution_count": 7,
     "metadata": {},
     "output_type": "execute_result"
    }
   ],
   "source": [
    "#Read in SPX Members:\n",
    "path = 'spx_names.csv'\n",
    "spx_names = pd.read_csv(path)\n",
    "\n",
    "#Adjust Ticker names to a list:\n",
    "stocks = [stock[0] for stock in spx_names.Symbols.str.split()]\n",
    "stocks[:10]"
   ]
  },
  {
   "cell_type": "markdown",
   "id": "f0bc2f78",
   "metadata": {},
   "source": [
    "- With the stock names ready, the price data can be gathered using Pandas-DataReader. Data since 2019 will be used along with the source \"stooq,\" which actively offers data of this kind:"
   ]
  },
  {
   "cell_type": "code",
   "execution_count": 8,
   "id": "26b090d4",
   "metadata": {},
   "outputs": [
    {
     "data": {
      "text/html": [
       "<div>\n",
       "<style scoped>\n",
       "    .dataframe tbody tr th:only-of-type {\n",
       "        vertical-align: middle;\n",
       "    }\n",
       "\n",
       "    .dataframe tbody tr th {\n",
       "        vertical-align: top;\n",
       "    }\n",
       "\n",
       "    .dataframe thead th {\n",
       "        text-align: right;\n",
       "    }\n",
       "</style>\n",
       "<table border=\"1\" class=\"dataframe\">\n",
       "  <thead>\n",
       "    <tr style=\"text-align: right;\">\n",
       "      <th>Symbols</th>\n",
       "      <th>A</th>\n",
       "      <th>AAL</th>\n",
       "      <th>AAP</th>\n",
       "      <th>AAPL</th>\n",
       "      <th>ABBV</th>\n",
       "      <th>ABC</th>\n",
       "      <th>ABMD</th>\n",
       "      <th>ABT</th>\n",
       "      <th>ACN</th>\n",
       "      <th>ADBE</th>\n",
       "      <th>...</th>\n",
       "      <th>WYNN</th>\n",
       "      <th>XEL</th>\n",
       "      <th>XLNX</th>\n",
       "      <th>XOM</th>\n",
       "      <th>XRAY</th>\n",
       "      <th>XYL</th>\n",
       "      <th>YUM</th>\n",
       "      <th>ZBH</th>\n",
       "      <th>ZBRA</th>\n",
       "      <th>ZION</th>\n",
       "    </tr>\n",
       "  </thead>\n",
       "  <tbody>\n",
       "    <tr>\n",
       "      <th>2019-01-02</th>\n",
       "      <td>64.357</td>\n",
       "      <td>31.964</td>\n",
       "      <td>154.73</td>\n",
       "      <td>38.326</td>\n",
       "      <td>76.363</td>\n",
       "      <td>70.681</td>\n",
       "      <td>309.96</td>\n",
       "      <td>66.282</td>\n",
       "      <td>134.98</td>\n",
       "      <td>224.57</td>\n",
       "      <td>...</td>\n",
       "      <td>100.260</td>\n",
       "      <td>44.781</td>\n",
       "      <td>84.203</td>\n",
       "      <td>58.019</td>\n",
       "      <td>37.076</td>\n",
       "      <td>64.349</td>\n",
       "      <td>87.130</td>\n",
       "      <td>100.28</td>\n",
       "      <td>156.24</td>\n",
       "      <td>38.009</td>\n",
       "    </tr>\n",
       "    <tr>\n",
       "      <th>2019-01-03</th>\n",
       "      <td>61.987</td>\n",
       "      <td>29.582</td>\n",
       "      <td>159.55</td>\n",
       "      <td>34.509</td>\n",
       "      <td>73.848</td>\n",
       "      <td>69.655</td>\n",
       "      <td>302.29</td>\n",
       "      <td>63.152</td>\n",
       "      <td>130.34</td>\n",
       "      <td>215.70</td>\n",
       "      <td>...</td>\n",
       "      <td>99.267</td>\n",
       "      <td>44.606</td>\n",
       "      <td>81.032</td>\n",
       "      <td>57.128</td>\n",
       "      <td>37.095</td>\n",
       "      <td>62.141</td>\n",
       "      <td>84.938</td>\n",
       "      <td>98.45</td>\n",
       "      <td>146.88</td>\n",
       "      <td>37.797</td>\n",
       "    </tr>\n",
       "    <tr>\n",
       "      <th>2019-01-04</th>\n",
       "      <td>64.131</td>\n",
       "      <td>31.529</td>\n",
       "      <td>155.57</td>\n",
       "      <td>35.981</td>\n",
       "      <td>76.228</td>\n",
       "      <td>70.463</td>\n",
       "      <td>313.44</td>\n",
       "      <td>64.955</td>\n",
       "      <td>135.44</td>\n",
       "      <td>226.19</td>\n",
       "      <td>...</td>\n",
       "      <td>103.280</td>\n",
       "      <td>45.041</td>\n",
       "      <td>84.784</td>\n",
       "      <td>59.235</td>\n",
       "      <td>38.172</td>\n",
       "      <td>64.760</td>\n",
       "      <td>87.149</td>\n",
       "      <td>101.81</td>\n",
       "      <td>152.97</td>\n",
       "      <td>38.958</td>\n",
       "    </tr>\n",
       "    <tr>\n",
       "      <th>2019-01-07</th>\n",
       "      <td>65.493</td>\n",
       "      <td>32.425</td>\n",
       "      <td>157.87</td>\n",
       "      <td>35.899</td>\n",
       "      <td>77.340</td>\n",
       "      <td>70.965</td>\n",
       "      <td>314.80</td>\n",
       "      <td>65.926</td>\n",
       "      <td>135.91</td>\n",
       "      <td>229.26</td>\n",
       "      <td>...</td>\n",
       "      <td>105.120</td>\n",
       "      <td>44.848</td>\n",
       "      <td>87.025</td>\n",
       "      <td>59.543</td>\n",
       "      <td>38.855</td>\n",
       "      <td>63.803</td>\n",
       "      <td>87.054</td>\n",
       "      <td>101.85</td>\n",
       "      <td>155.29</td>\n",
       "      <td>39.115</td>\n",
       "    </tr>\n",
       "    <tr>\n",
       "      <th>2019-01-08</th>\n",
       "      <td>66.454</td>\n",
       "      <td>31.904</td>\n",
       "      <td>156.77</td>\n",
       "      <td>36.583</td>\n",
       "      <td>77.699</td>\n",
       "      <td>71.724</td>\n",
       "      <td>318.42</td>\n",
       "      <td>65.137</td>\n",
       "      <td>139.36</td>\n",
       "      <td>232.68</td>\n",
       "      <td>...</td>\n",
       "      <td>108.420</td>\n",
       "      <td>45.366</td>\n",
       "      <td>85.366</td>\n",
       "      <td>59.976</td>\n",
       "      <td>38.593</td>\n",
       "      <td>64.403</td>\n",
       "      <td>86.882</td>\n",
       "      <td>99.57</td>\n",
       "      <td>156.33</td>\n",
       "      <td>39.470</td>\n",
       "    </tr>\n",
       "  </tbody>\n",
       "</table>\n",
       "<p>5 rows × 430 columns</p>\n",
       "</div>"
      ],
      "text/plain": [
       "Symbols          A     AAL     AAP    AAPL    ABBV     ABC    ABMD     ABT  \\\n",
       "2019-01-02  64.357  31.964  154.73  38.326  76.363  70.681  309.96  66.282   \n",
       "2019-01-03  61.987  29.582  159.55  34.509  73.848  69.655  302.29  63.152   \n",
       "2019-01-04  64.131  31.529  155.57  35.981  76.228  70.463  313.44  64.955   \n",
       "2019-01-07  65.493  32.425  157.87  35.899  77.340  70.965  314.80  65.926   \n",
       "2019-01-08  66.454  31.904  156.77  36.583  77.699  71.724  318.42  65.137   \n",
       "\n",
       "Symbols        ACN    ADBE  ...     WYNN     XEL    XLNX     XOM    XRAY  \\\n",
       "2019-01-02  134.98  224.57  ...  100.260  44.781  84.203  58.019  37.076   \n",
       "2019-01-03  130.34  215.70  ...   99.267  44.606  81.032  57.128  37.095   \n",
       "2019-01-04  135.44  226.19  ...  103.280  45.041  84.784  59.235  38.172   \n",
       "2019-01-07  135.91  229.26  ...  105.120  44.848  87.025  59.543  38.855   \n",
       "2019-01-08  139.36  232.68  ...  108.420  45.366  85.366  59.976  38.593   \n",
       "\n",
       "Symbols        XYL     YUM     ZBH    ZBRA    ZION  \n",
       "2019-01-02  64.349  87.130  100.28  156.24  38.009  \n",
       "2019-01-03  62.141  84.938   98.45  146.88  37.797  \n",
       "2019-01-04  64.760  87.149  101.81  152.97  38.958  \n",
       "2019-01-07  63.803  87.054  101.85  155.29  39.115  \n",
       "2019-01-08  64.403  86.882   99.57  156.33  39.470  \n",
       "\n",
       "[5 rows x 430 columns]"
      ]
     },
     "execution_count": 8,
     "metadata": {},
     "output_type": "execute_result"
    }
   ],
   "source": [
    "#Gather price data for above stock names:\n",
    "start = '2019-01-01'\n",
    "end = '2022-02-01'\n",
    "source = 'stooq'\n",
    "data = web.DataReader(stocks, source, start, end).Close\n",
    "data.head()"
   ]
  },
  {
   "cell_type": "markdown",
   "id": "b70a8796",
   "metadata": {},
   "source": [
    "- The components for the Monte Carlo Simulation can now be prepared. A list is needed for the number of stocks to be used, which is 2 to 20 as previously named. Then a set number of simulations is needed as well, and it is set as 10,000 here to give a good distribution. Lastly, empty lists are needed to store the average volatility, return, and Sharpe Ratio of each iteration of the number of stocks:"
   ]
  },
  {
   "cell_type": "code",
   "execution_count": 10,
   "id": "be7a4cff",
   "metadata": {},
   "outputs": [],
   "source": [
    "num_stocks = list(range(2,21))  #Number of stocks each iteration\n",
    "sims = 10000                    #Simulations\n",
    "\n",
    "#Lists to store Average returns/volatilities/Sharpe for each:\n",
    "rets = []\n",
    "vols = []\n",
    "sr = []"
   ]
  },
  {
   "cell_type": "markdown",
   "id": "652f5f7f",
   "metadata": {},
   "source": [
    "- With the necessary components set up, the for loops needed can be built to generate the simulations. Two loops are needed, one for each number of stocks and one for the 10000 simulations each time. For each one of the number of stocks, empty lists are needed once more to store the temporary returns, volatilities, and Sharpe Ratios of each randomly generated portfolio of the 10,000 simulations. For this, each needs to be calculated, which Python, Pandas, and NumPy makes it easy to do with its various methods. At the end, the average of each metric is taken and added to the original empty lists made above.\n",
    "\n",
    "\n",
    "- Keep in mind, these are a lot of simulations, so the code takes some time to run. If replicated, smaller numbers/ranges may be better suited:"
   ]
  },
  {
   "cell_type": "code",
   "execution_count": 18,
   "id": "80c0b3a6",
   "metadata": {},
   "outputs": [],
   "source": [
    "#Loop for simulations 2 to 20 number of stocks:\n",
    "for num in num_stocks:\n",
    "    \n",
    "    #To keep each simulations Returns/Volatilities:\n",
    "    sim_rets = []\n",
    "    sim_vols = []\n",
    "    sim_sr = []\n",
    "    \n",
    "    #Singular simulation of 10000 portfolios for num of stocks:\n",
    "    for _ in range(sims):\n",
    "        \n",
    "        #Get random num amount of stock locations:\n",
    "        rand_stocks = np.random.permutation(len(stocks[:283]))[:num]\n",
    "        temp_df = data.iloc[:, rand_stocks]  #select above stocks only\n",
    "        \n",
    "        #Calculate weights:\n",
    "        ws = np.random.rand(num)   #Random num amount of weights\n",
    "        ws = ws / ws.sum()         #Normalize to add to 1\n",
    "        \n",
    "        #Portfolio returns:\n",
    "        returns = temp_df.resample('Y').last().pct_change().mean()  #Annual return\n",
    "        return_df = np.dot(returns, ws)  #portfolio return\n",
    "        sim_rets.append(return_df)       #add to list to later calculate average\n",
    "        \n",
    "        #Portfolio Volatilities:\n",
    "        cov = temp_df.pct_change().cov()        #Covariance matrix\n",
    "        var = np.dot(ws.T, np.dot(cov, ws))     #variance = weights.T*Cov*weights\n",
    "        yearly_vol = np.sqrt(var)*np.sqrt(252)  #Std = sqrt(var), times sqrt(252) gives annual vol\n",
    "        sim_vols.append(yearly_vol)             #Add it to list for later average calc.\n",
    "        \n",
    "        #Portfolio Sharpe:\n",
    "        sharpe = (return_df - 0.01) / yearly_vol  #(Returns - risk-free rate) / volatility\n",
    "        sim_sr.append(sharpe)                     #Add to list for later average calc.\n",
    "\n",
    "    #Find average portfolio return/volatility/sharpe from 10,000 runs:\n",
    "    #Returns:\n",
    "    avg_ret = np.mean(sim_rets)  #Average\n",
    "    rets.append(avg_ret)         #Add to original empty list\n",
    "    \n",
    "    #Volatilities:\n",
    "    avg_vol = np.mean(sim_vols)  #Average\n",
    "    vols.append(avg_vol)         #Add to original empty list\n",
    "    \n",
    "    #Sharpe Ratios:\n",
    "    avg_sr = np.mean(sim_sr)   #Average\n",
    "    sr.append(avg_sr)          #Add to original empty list"
   ]
  },
  {
   "cell_type": "markdown",
   "id": "e42fb5e9",
   "metadata": {},
   "source": [
    "- With all of the Monte Carlo Simulations done and the averages taken, each metric can be plotted against the number of stocks to examine how diversification affects the portfolios and its asset allocation metrics. This can be done with matplotlib and seaborn's tools for simple line plots. First, the returns can be plotted:"
   ]
  },
  {
   "cell_type": "code",
   "execution_count": 31,
   "id": "296afc7e",
   "metadata": {},
   "outputs": [
    {
     "data": {
      "text/plain": [
       "Text(0, 0.5, 'Return of Portfolio')"
      ]
     },
     "execution_count": 31,
     "metadata": {},
     "output_type": "execute_result"
    },
    {
     "data": {
      "image/png": "[encoded data removed]",
      "text/plain": [
       "<Figure size 576x360 with 1 Axes>"
      ]
     },
     "metadata": {},
     "output_type": "display_data"
    }
   ],
   "source": [
    "#Apply style of seaborn:\n",
    "sea.set_theme()\n",
    "\n",
    "#Returns vs. Number of stocks:\n",
    "plt.figure(figsize=(8,5))  \n",
    "\n",
    "#Lineplot with Seaborn:\n",
    "sea.lineplot(x=num_stocks, y=rets)\n",
    "\n",
    "#Adding proper title and labels:\n",
    "plt.title('Returns vs. Num. of Stocks', fontsize=18)\n",
    "plt.xlabel('Number of Stocks', fontsize=15)\n",
    "plt.ylabel('Return of Portfolio', fontsize=15)"
   ]
  },
  {
   "cell_type": "markdown",
   "id": "bde6d4c5",
   "metadata": {},
   "source": [
    "- With the average returns plotted for each number of stocks contained in the portfolio, it can be seen how it behaves as the number of stocks increases from 2. The returns oscillate quite a bit at first but end up converging towards the middle and a more controlled level. This is so because as diversification increases, the portfolio approximates to the level of a benchmark such as the S&P 500 index. This causes the portfolio to basically reach the same expected returns as a market benchmark when the number of stocks is increased to certain levels. Returns can be much lower or higher without diversification because allocation is more concentrated into fewer stocks, which may have high price movements. This, of course, is not good for risk control. \n",
    "\n",
    "\n",
    "- Next, the volatilities can be visualized in the same way:"
   ]
  },
  {
   "cell_type": "code",
   "execution_count": 40,
   "id": "62e69341",
   "metadata": {},
   "outputs": [
    {
     "data": {
      "text/plain": [
       "Text(0, 0.5, 'Volatility of Portfolio')"
      ]
     },
     "execution_count": 40,
     "metadata": {},
     "output_type": "execute_result"
    },
    {
     "data": {
      "image/png": "[encoded data removed]",
      "text/plain": [
       "<Figure size 576x360 with 1 Axes>"
      ]
     },
     "metadata": {},
     "output_type": "display_data"
    }
   ],
   "source": [
    "#Volatilities vs. Number of stocks:\n",
    "plt.figure(figsize=(8,5))  \n",
    "\n",
    "#Lineplot with Seaborn:\n",
    "sea.lineplot(x=num_stocks, y=vols)\n",
    "\n",
    "#Adding proper title and labels:\n",
    "plt.title('Risk vs. Num. of Stocks', fontsize=18)\n",
    "plt.xlabel('Number of Stocks', fontsize=15)\n",
    "plt.ylabel('Volatility of Portfolio', fontsize=15)"
   ]
  },
  {
   "cell_type": "markdown",
   "id": "657645e3",
   "metadata": {},
   "source": [
    "- This line graph is what really depicts the topic discussed in this report. It can be seen how the idiosyncratic risk of individual firms is diversified away as more stocks receive allocation. This is so as chances of one firm's unexpected events of significant price changes affecting the overall portfolio diminishes with less capital allocated to that firm. It is also worth to note that while the risk lowers throughout, it does start to do so at a lower rate once a certain point is reached. This exhibits once more that the benchmark market metrics are being attained as greater diversification is used. This means that, essentially, it does not matter how many more stocks one adds after a certain point, for the market/benchmark will be attained in terms of metrics. \n",
    "\n",
    "\n",
    "- Finally, the last measure used can be visualized as well:"
   ]
  },
  {
   "cell_type": "code",
   "execution_count": 41,
   "id": "f39df127",
   "metadata": {},
   "outputs": [
    {
     "data": {
      "text/plain": [
       "Text(0, 0.5, 'Sharpe Ratio of Portfolio')"
      ]
     },
     "execution_count": 41,
     "metadata": {},
     "output_type": "execute_result"
    },
    {
     "data": {
      "image/png": "[encoded data removed]",
      "text/plain": [
       "<Figure size 576x360 with 1 Axes>"
      ]
     },
     "metadata": {},
     "output_type": "display_data"
    }
   ],
   "source": [
    "#Sharpe Ratio vs. Number of stocks:\n",
    "plt.figure(figsize=(8,5))\n",
    "\n",
    "#Lineplit with Seaborn:\n",
    "sea.lineplot(x=num_stocks, y=sr)\n",
    "\n",
    "#Adding proper title and labels:\n",
    "plt.title('Sharpe Ratio vs. Num. of Stocks', fontsize=18)\n",
    "plt.xlabel('Number of stocks', fontsize=15)\n",
    "plt.ylabel('Sharpe Ratio of Portfolio', fontsize=15)"
   ]
  },
  {
   "cell_type": "markdown",
   "id": "e08b63a0",
   "metadata": {},
   "source": [
    "- It can be clearly seen that the Sharpe Ratio has the opposite result as the volatility of the portfolio with an increase in number of stocks. As stocks included increase, so does the Sharpe Ratio of the portfolio. The Sharpe Ratio exhibits the return of an investment relative to its risk and compared to a risk-free rate of return, so it only makes sense that it becomes higher as risk is diversified away with a larger number of stocks being added. With idiosyncratic risk being diversified, the Sharpe Ratio is able to grow as volatility decreases. "
   ]
  },
  {
   "cell_type": "markdown",
   "id": "4cd234bd",
   "metadata": {},
   "source": [
    "# Conclusion:\n",
    "----\n",
    "\n",
    "As the implementation concludes, it can be seen how Monte Carlo simulations are useful in a financial setting of asset allocation/portfolio optimization. This technique is particularly useful to examine specific metrics under certain conditions as seen through chosen number of stocks. Furthermore, the significant idea of diversification in asset allocation is clearly depicted, for it can be seen how investors are able to diversify significant amounts of risk away due to firm specific idiosyncratic volatility. On the other hand, the portfolio returns relative to its risk is also able to be significantly improved as seen through the Sharpe Ratio progression. With this, investors must seek diversification and inclusion of multiple assets in order to avoid unnecessary risk of holding a small number of securities in their portfolios. \n",
    "\n",
    "\n",
    "\n",
    "As a next step, Monte Carlo can be used to find average minimum risk, maximum return, and maximum Sharpe Ratio portfolios. They can then be plotted on an efficient frontier to show which portfolios are optimal, exhibiting another use of this technique in asset allocation. This can be used to find specific portfolio weights for assets, which is useful for investors to know how much capital to place in each security. Also, the topics of asset betas and hedging can be included as well, which are industry popular tools being used to further examine risk and control it.  "
   ]
  },
  {
   "cell_type": "markdown",
   "id": "6054f232",
   "metadata": {},
   "source": [
    "# Reference:\n",
    "\n",
    "- Advanced Financial Data Analytics (NJIT Course - Prof. Steve Taylor) "
   ]
  }
 ],
 "metadata": {
  "kernelspec": {
   "display_name": "Python 3 (ipykernel)",
   "language": "python",
   "name": "python3"
  },
  "language_info": {
   "codemirror_mode": {
    "name": "ipython",
    "version": 3
   },
   "file_extension": ".py",
   "mimetype": "text/x-python",
   "name": "python",
   "nbconvert_exporter": "python",
   "pygments_lexer": "ipython3",
   "version": "3.9.7"
  }
 },
 "nbformat": 4,
 "nbformat_minor": 5
}
